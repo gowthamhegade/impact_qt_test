{
 "cells": [
  {
   "cell_type": "code",
   "execution_count": 4,
   "metadata": {},
   "outputs": [
    {
     "ename": "ModuleNotFoundError",
     "evalue": "No module named 'git'",
     "output_type": "error",
     "traceback": [
      "\u001b[1;31m---------------------------------------------------------------------------\u001b[0m",
      "\u001b[1;31mModuleNotFoundError\u001b[0m                       Traceback (most recent call last)",
      "Cell \u001b[1;32mIn[4], line 1\u001b[0m\n\u001b[1;32m----> 1\u001b[0m \u001b[38;5;28;01mimport\u001b[39;00m \u001b[38;5;21;01mgit\u001b[39;00m\n\u001b[0;32m      2\u001b[0m \u001b[38;5;28;01mimport\u001b[39;00m \u001b[38;5;21;01msubprocess\u001b[39;00m\n\u001b[0;32m      3\u001b[0m \u001b[38;5;28;01mimport\u001b[39;00m \u001b[38;5;21;01mos\u001b[39;00m\n",
      "\u001b[1;31mModuleNotFoundError\u001b[0m: No module named 'git'"
     ]
    }
   ],
   "source": [
    "\n",
    "\n",
    "def git_diff(repo_path, path, start_commit):\n",
    "    \n",
    "    repo = git.Repo(repo_path)\n",
    "    end_commit = repo.head.object.hexsha\n",
    "\n",
    "    commit_a = repo.commit(start_commit)\n",
    "    commit_b = repo.commit(end_commit)\n",
    "    \n",
    "    diff_output = ''\n",
    "    command = ['git','diff',f'{commit_a}', f'{commit_b}']\n",
    "\n",
    "    try:\n",
    "        diff_output = subprocess.run(command, cwd=repo_path, capture_output=True, text=True, check=True).stdout\n",
    "    except subprocess.CalledProcessError as e:\n",
    "        print(f\"Error executing git diff: {e}\")\n",
    "        \n",
    "    diff_info = diff_output.split(\"\\ndiff --git\")\n",
    "    diff_info = [part.strip() for part in diff_info if part.strip()]\n",
    "\n",
    "    def git_changes(git_diff_output):\n",
    "        changes={}\n",
    "        diff_line = git_diff_output.splitlines()\n",
    "        for line in diff_line:\n",
    "            if line.startswith('diff --git') or line.startswith('a/'):\n",
    "                start_index = line.find('a/') \n",
    "                end_index = line.find(' b/', start_index)\n",
    "                file_name = line[start_index:end_index].split('/')[-1]\n",
    "                chunk_headers = [line for line in diff_line if line.startswith(\"@@\")]\n",
    "                method_names = set()\n",
    "                for header in chunk_headers:\n",
    "                    parts = header.split(\"@@\")[-1].strip().split(\"(\")[0]\n",
    "                    method_names.add(parts.split(' ')[-1])\n",
    "                changes[file_name] = list(method_names)\n",
    "        return changes\n",
    "\n",
    "    final_changes = {}\n",
    "    \n",
    "    for ele in diff_info:\n",
    "        changes = git_changes(ele)\n",
    "        final_changes.update(changes)\n",
    "    df_changes = pd.DataFrame([(file,method) for file, methods in final_changes.items() for method in methods], columns=['File_Name','Methods'])\n",
    "    git_changes_path = os.path.join(path,\"git_changes\")\n",
    "    if not os.path.exists(git_changes_path):\n",
    "        os.makedirs(git_changes_path)\n",
    "    with pd.ExcelWriter(os.path.join(git_changes_path,\"changes.xlsx\")) as w:\n",
    "        df_changes.to_excel(w)\n",
    "    \n",
    "    return final_changes\n",
    "\n",
    "import database\n",
    "repo_path               = database.REPO_PATH\n",
    "#executable_path         = database.EXECUTABLE_PATH\n",
    "#test_scripts_path       = database.TEST_SCRIPTS_PATH\n",
    "result_path             = database.RESULT_PATH\n",
    "start_commit            = database.START_COMMIT\n",
    "print(git_diff(repo_path, result_path, start_commit))\n"
   ]
  },
  {
   "cell_type": "code",
   "execution_count": 2,
   "metadata": {},
   "outputs": [
    {
     "ename": "ModuleNotFoundError",
     "evalue": "No module named 'git'",
     "output_type": "error",
     "traceback": [
      "\u001b[1;31m---------------------------------------------------------------------------\u001b[0m",
      "\u001b[1;31mModuleNotFoundError\u001b[0m                       Traceback (most recent call last)",
      "Cell \u001b[1;32mIn[2], line 1\u001b[0m\n\u001b[1;32m----> 1\u001b[0m \u001b[38;5;28;01mimport\u001b[39;00m \u001b[38;5;21;01mgit\u001b[39;00m\n\u001b[0;32m      2\u001b[0m \u001b[38;5;28;01mimport\u001b[39;00m \u001b[38;5;21;01msubprocess\u001b[39;00m\n\u001b[0;32m      3\u001b[0m \u001b[38;5;28;01mimport\u001b[39;00m \u001b[38;5;21;01mos\u001b[39;00m\n",
      "\u001b[1;31mModuleNotFoundError\u001b[0m: No module named 'git'"
     ]
    }
   ],
   "source": [
    "import git\n",
    "import subprocess\n",
    "import os\n",
    "import glob\n",
    "import pandas as pd"
   ]
  },
  {
   "cell_type": "code",
   "execution_count": 1,
   "metadata": {},
   "outputs": [
    {
     "name": "stdout",
     "output_type": "stream",
     "text": [
      "Requirement already satisfied: GitPython in c:\\python312\\lib\\site-packages (3.1.42)\n",
      "Requirement already satisfied: gitdb<5,>=4.0.1 in c:\\python312\\lib\\site-packages (from GitPython) (4.0.11)\n",
      "Requirement already satisfied: smmap<6,>=3.0.1 in c:\\python312\\lib\\site-packages (from gitdb<5,>=4.0.1->GitPython) (5.0.1)\n"
     ]
    }
   ],
   "source": [
    "!pip install GitPython"
   ]
  }
 ],
 "metadata": {
  "kernelspec": {
   "display_name": "Python 3",
   "language": "python",
   "name": "python3"
  },
  "language_info": {
   "codemirror_mode": {
    "name": "ipython",
    "version": 3
   },
   "file_extension": ".py",
   "mimetype": "text/x-python",
   "name": "python",
   "nbconvert_exporter": "python",
   "pygments_lexer": "ipython3",
   "version": "3.11.5"
  }
 },
 "nbformat": 4,
 "nbformat_minor": 2
}
