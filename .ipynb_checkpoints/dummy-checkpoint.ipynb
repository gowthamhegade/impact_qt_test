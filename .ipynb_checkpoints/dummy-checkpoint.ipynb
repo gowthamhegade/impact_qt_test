{
 "cells": [
  {
   "cell_type": "code",
   "execution_count": 5,
   "metadata": {},
   "outputs": [
    {
     "name": "stdout",
     "output_type": "stream",
     "text": [
      "testting diff --git a/textedit/textedit_v1/textedit.cpp b/textedit/textedit_v1/textedit.cpp\n",
      "index 9e0893d..71f525e 100644\n",
      "--- a/textedit/textedit_v1/textedit.cpp\n",
      "+++ b/textedit/textedit_v1/textedit.cpp\n",
      "@@ -58,6 +58,7 @@ const QString rsrcPath = \":/images\";\n",
      "    setCentralWidget(textEdit);\n",
      "    textEdit->setFocus();\n",
      "    setCurrentFileName(QString());\n",
      "+   cout<<\"hello\";\n",
      " \n",
      "    fontChanged(textEdit->font());\n",
      "    colorChanged(textEdit->textColor());\n",
      "\n"
     ]
    },
    {
     "data": {
      "text/plain": [
       "{'textedit.cpp': ['\":/images\";']}"
      ]
     },
     "execution_count": 5,
     "metadata": {},
     "output_type": "execute_result"
    }
   ],
   "source": [
    "\n",
    "\n",
    "def git_diff(repo_path, path, start_commit):\n",
    "    \n",
    "    repo = git.Repo(repo_path)\n",
    "    # end_commit = repo.head.object.hexsha\n",
    "    end_commit = 'be909fa7ea7f33a222a52867fa7a8808c7b3a358'\n",
    "    commit_a = repo.commit(start_commit)\n",
    "    commit_b = repo.commit(end_commit)\n",
    "    \n",
    "    diff_output = ''\n",
    "    command = ['git','diff',f'{commit_a}', f'{commit_b}']\n",
    "\n",
    "    try:\n",
    "        diff_output = subprocess.run(command, cwd=repo_path, capture_output=True, text=True, check=True).stdout\n",
    "    except subprocess.CalledProcessError as e:\n",
    "        print(f\"Error executing git diff: {e}\")\n",
    "    print('testting', diff_output)\n",
    "    diff_info = diff_output.split(\"\\ndiff --git\")\n",
    "    diff_info = [part.strip() for part in diff_info if part.strip()]\n",
    "\n",
    "    def git_changes(git_diff_output):\n",
    "        changes={}\n",
    "        diff_line = git_diff_output.splitlines()\n",
    "        for line in diff_line:\n",
    "            if line.startswith('diff --git') or line.startswith('a/'):\n",
    "                start_index = line.find('a/') \n",
    "                end_index = line.find(' b/', start_index)\n",
    "                file_name = line[start_index:end_index].split('/')[-1]\n",
    "                chunk_headers = [line for line in diff_line if line.startswith(\"@@\")]\n",
    "                method_names = set()\n",
    "                for header in chunk_headers:\n",
    "                    parts = header.split(\"@@\")[-1].strip().split(\"(\")[0]\n",
    "                    method_names.add(parts.split(' ')[-1])\n",
    "                changes[file_name] = list(method_names)\n",
    "        return changes\n",
    "\n",
    "    final_changes = {}\n",
    "    \n",
    "    for ele in diff_info:\n",
    "        changes = git_changes(ele)\n",
    "        final_changes.update(changes)\n",
    "    df_changes = pd.DataFrame([(file,method) for file, methods in final_changes.items() for method in methods], columns=['File_Name','Methods'])\n",
    "    git_changes_path = os.path.join(path,\"git_changes\")\n",
    "    if not os.path.exists(git_changes_path):\n",
    "        os.makedirs(git_changes_path)\n",
    "    with pd.ExcelWriter(os.path.join(git_changes_path,\"changes.xlsx\")) as w:\n",
    "        df_changes.to_excel(w)\n",
    "    \n",
    "    return final_changes\n",
    "\n",
    "# import impa/database\n",
    "repo_path               = \"C:\\\\Users\\\\Dell\\\\Documents\\\\qtcc\\\\GitHub\\\\impact_qt_test\"\n",
    "#executable_path         = database.EXECUTABLE_PATH\n",
    "#test_scripts_path       = database.TEST_SCRIPTS_PATH\n",
    "result_path             = repo_path + \"\\\\impactbasedtesting\\\\results\"\n",
    "start_commit            = \"a647b7501523c048926b27382ae636bdee623434\"\n",
    "(git_diff(repo_path, result_path, start_commit))\n"
   ]
  },
  {
   "cell_type": "code",
   "execution_count": 2,
   "metadata": {},
   "outputs": [],
   "source": [
    "import git\n",
    "import subprocess\n",
    "import os\n",
    "import glob\n",
    "import pandas as pd"
   ]
  },
  {
   "cell_type": "code",
   "execution_count": 1,
   "metadata": {},
   "outputs": [
    {
     "name": "stdout",
     "output_type": "stream",
     "text": [
      "Requirement already satisfied: GitPython in c:\\users\\dell\\documents\\qtcc\\github\\impact_qt_test\\impactbasedtesting\\impact\\lib\\site-packages (3.1.42)\n",
      "Requirement already satisfied: gitdb<5,>=4.0.1 in c:\\users\\dell\\documents\\qtcc\\github\\impact_qt_test\\impactbasedtesting\\impact\\lib\\site-packages (from GitPython) (4.0.11)\n",
      "Requirement already satisfied: smmap<6,>=3.0.1 in c:\\users\\dell\\documents\\qtcc\\github\\impact_qt_test\\impactbasedtesting\\impact\\lib\\site-packages (from gitdb<5,>=4.0.1->GitPython) (5.0.1)\n"
     ]
    }
   ],
   "source": [
    "!pip install GitPython"
   ]
  }
 ],
 "metadata": {
  "kernelspec": {
   "display_name": "Python 3 (ipykernel)",
   "language": "python",
   "name": "python3"
  },
  "language_info": {
   "codemirror_mode": {
    "name": "ipython",
    "version": 3
   },
   "file_extension": ".py",
   "mimetype": "text/x-python",
   "name": "python",
   "nbconvert_exporter": "python",
   "pygments_lexer": "ipython3",
   "version": "3.12.2"
  }
 },
 "nbformat": 4,
 "nbformat_minor": 4
}
